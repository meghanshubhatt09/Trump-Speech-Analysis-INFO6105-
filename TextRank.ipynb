{
 "cells": [
  {
   "cell_type": "markdown",
   "id": "06885f16",
   "metadata": {},
   "source": [
    "## TEXT RANK on Clusters \n",
    "\n",
    "To get top ranked relevant sentences in the cluster for in-depth cluster analysis."
   ]
  },
  {
   "cell_type": "code",
   "execution_count": null,
   "id": "6982396e",
   "metadata": {},
   "outputs": [],
   "source": [
    "from sentence_transformers import SentenceTransformer\n",
    "bmodel = SentenceTransformer('all-MiniLM-L6-v2')"
   ]
  },
  {
   "cell_type": "code",
   "execution_count": null,
   "id": "e2bd0674",
   "metadata": {},
   "outputs": [],
   "source": [
    "import pandas as pd\n",
    "\n",
    "df = pd.read_csv('data/cluster.csv')"
   ]
  },
  {
   "cell_type": "code",
   "execution_count": null,
   "id": "fa35fe78",
   "metadata": {},
   "outputs": [],
   "source": [
    "import numpy as np\n",
    "from tqdm import tqdm\n",
    "import networkx\n",
    "import matplotlib.pyplot as plt\n",
    "%matplotlib inline\n",
    "\n",
    "def textRank(cluster):\n",
    "    all_words = ''.join([word for word in df[df['Label'] == cluster]['SpeechNormalize']]).replace('\\n', '.')\n",
    "    df_analysis = pd.DataFrame(all_words.split('.'), columns=['Speech'])\n",
    "    df_analysis = df_analysis.loc[df_analysis['Speech'].str.split(' ').apply(len) > 8]\n",
    "    df_analysis.reset_index(inplace=True)\n",
    "    bert_embeddings = bmodel.encode(df_analysis['Speech'])\n",
    "    a = bert_embeddings[0]\n",
    "    b = bert_embeddings[1]\n",
    "    cos_sim = (a @ b.T) / (np.linalg.norm(a)*np.linalg.norm(b))\n",
    "    \n",
    "    M = np.eye(7800)\n",
    "\n",
    "    for i,a in tqdm(enumerate(bert_embeddings)):\n",
    "        for j,b in enumerate(bert_embeddings):\n",
    "            if i != j:\n",
    "                M[i,j] = (a @ b.T) / (np.linalg.norm(a)*np.linalg.norm(b))\n",
    "                \n",
    "    similarity_graph = networkx.from_numpy_array(M)\n",
    "    return similarity_graph\n"
   ]
  },
  {
   "cell_type": "code",
   "execution_count": null,
   "id": "a415583e",
   "metadata": {},
   "outputs": [],
   "source": [
    "similarity_graph = textRank(0)\n",
    "plt.figure(figsize=(1200, 800))\n",
    "networkx.draw_networkx(similarity_graph, node_color='blue')\n",
    "\n",
    "scores=networkx.pagerank(similarity_graph)\n",
    "nx_ranked_sentences = sorted(((score, index) for index, score \n",
    "                                            in scores.items()),reverse=True)"
   ]
  },
  {
   "cell_type": "code",
   "execution_count": null,
   "id": "83578592",
   "metadata": {},
   "outputs": [],
   "source": []
  }
 ],
 "metadata": {
  "kernelspec": {
   "display_name": "Python 3 (ipykernel)",
   "language": "python",
   "name": "python3"
  },
  "language_info": {
   "codemirror_mode": {
    "name": "ipython",
    "version": 3
   },
   "file_extension": ".py",
   "mimetype": "text/x-python",
   "name": "python",
   "nbconvert_exporter": "python",
   "pygments_lexer": "ipython3",
   "version": "3.9.12"
  }
 },
 "nbformat": 4,
 "nbformat_minor": 5
}
